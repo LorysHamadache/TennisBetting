{
 "metadata": {
  "language_info": {
   "codemirror_mode": {
    "name": "ipython",
    "version": 3
   },
   "file_extension": ".py",
   "mimetype": "text/x-python",
   "name": "python",
   "nbconvert_exporter": "python",
   "pygments_lexer": "ipython3",
   "version": "3.8.3-final"
  },
  "orig_nbformat": 2,
  "kernelspec": {
   "name": "python3",
   "display_name": "Python 3"
  }
 },
 "nbformat": 4,
 "nbformat_minor": 2,
 "cells": [
  {
   "source": [
    "# Test Our Models"
   ],
   "cell_type": "markdown",
   "metadata": {}
  },
  {
   "source": [
    "## 1. Import Models and Libs"
   ],
   "cell_type": "markdown",
   "metadata": {}
  },
  {
   "source": [
    "import models\n",
    "import data_processing\n",
    "from datetime import date\n",
    "import pandas as pd\n",
    "%matplotlib auto"
   ],
   "cell_type": "code",
   "metadata": {},
   "execution_count": 1,
   "outputs": [
    {
     "output_type": "stream",
     "name": "stdout",
     "text": [
      "Using matplotlib backend: Qt5Agg\n"
     ]
    }
   ]
  },
  {
   "source": [
    "## 2. Import & Process pickle"
   ],
   "cell_type": "markdown",
   "metadata": {}
  },
  {
   "cell_type": "code",
   "execution_count": 2,
   "metadata": {},
   "outputs": [],
   "source": [
    "df_matches = data_processing.import_process_df(\"./pickles/all_matches.pkl\")\n",
    "df_matches = df_matches[df_matches['Gender'].apply(lambda x: x.lower()) == 'women']\n",
    "df_matches = df_matches[df_matches['Tour'].apply(lambda x: x.lower()) == 'wta']\n",
    "df_matches = df_matches[df_matches['Single/Doubles'].apply(lambda x: x.lower()) == 'singles']"
   ]
  },
  {
   "source": [
    "## 3. Initialize Variables"
   ],
   "cell_type": "markdown",
   "metadata": {}
  },
  {
   "cell_type": "code",
   "execution_count": 3,
   "metadata": {},
   "outputs": [],
   "source": [
    "df_test = df_matches[df_matches['Year'].astype('int32')>=2020]\n",
    "df_train = df_matches[df_matches['Year'].astype('int32')<2020]"
   ]
  },
  {
   "cell_type": "code",
   "execution_count": 4,
   "metadata": {},
   "outputs": [],
   "source": [
    "df_results = pd.DataFrame(columns=['Model',\n",
    "            'Type',\n",
    "            'Strategy',\n",
    "            'Total Earning',\n",
    "            'Nb Bets',\n",
    "            'Earned By Bet',\n",
    "            'Earned on Fav',\n",
    "            'Loss on Fav',\n",
    "            'Earned on UnderD',\n",
    "            'Loss on UnderD'])"
   ]
  },
  {
   "source": [
    "## 4. Models"
   ],
   "cell_type": "markdown",
   "metadata": {}
  },
  {
   "source": [
    "###     a. Odds Model"
   ],
   "cell_type": "markdown",
   "metadata": {}
  },
  {
   "cell_type": "code",
   "execution_count": 5,
   "metadata": {},
   "outputs": [
    {
     "output_type": "stream",
     "name": "stdout",
     "text": [
      "Running Model:  Odd Model\n"
     ]
    }
   ],
   "source": [
    "odd_model = models.Odd_Model(df_train,df_test,df_matches)\n",
    "#odd_model.modelPlotTest()\n",
    "odd_model.modelTrain()\n",
    "df_results = df_results.append(odd_model.modelTestVictories('all_victories'),ignore_index=True)\n",
    "df_results = df_results.append(odd_model.modelTestVictories('all_predicted'),ignore_index=True)"
   ]
  },
  {
   "source": [
    "### b. Linear Model"
   ],
   "cell_type": "markdown",
   "metadata": {}
  },
  {
   "cell_type": "code",
   "execution_count": 6,
   "metadata": {},
   "outputs": [
    {
     "output_type": "stream",
     "name": "stdout",
     "text": [
      "Running Model:  Linear Regression Model\n"
     ]
    }
   ],
   "source": [
    "linear_model = models.LinearRegression_Model(df_train,df_test,df_matches)\n",
    "linear_model.modelTrain()\n",
    "#linear_model.modelPlotTrain()\n",
    "#linear_model.modelPlotTest()\n",
    "df_results = df_results.append(linear_model.modelTestVictories('all_predicted'),ignore_index=True)"
   ]
  },
  {
   "source": [
    "### c. Logarithmic Model"
   ],
   "cell_type": "markdown",
   "metadata": {}
  },
  {
   "cell_type": "code",
   "execution_count": 7,
   "metadata": {},
   "outputs": [
    {
     "output_type": "stream",
     "name": "stdout",
     "text": [
      "Running Model:  Logistic Regression Model\n"
     ]
    }
   ],
   "source": [
    "logistic_model = models.LogisiticRegression_Model(df_train,df_test,df_matches)\n",
    "logistic_model.modelTrain()\n",
    "#logistic_model.modelPlotBookies()\n",
    "#linear_model.modelPlotTrain()\n",
    "#linear_model.modelPlotTest()\n",
    "df_results = df_results.append(logistic_model.modelTestVictories('all_predicted'),ignore_index=True)"
   ]
  },
  {
   "source": [
    "### d. Polynomial Model"
   ],
   "cell_type": "markdown",
   "metadata": {}
  },
  {
   "cell_type": "code",
   "execution_count": 8,
   "metadata": {},
   "outputs": [
    {
     "output_type": "stream",
     "name": "stdout",
     "text": [
      "Running Model:  Polynomial Regression Model\n"
     ]
    }
   ],
   "source": [
    "polynomial_model = models.PolynomialRegression_Model(df_train,df_test,df_matches,3)\n",
    "polynomial_model.modelTrain()\n",
    "df_results = df_results.append(polynomial_model.modelTestVictories(\"all_miss_estimate\"),ignore_index=True)\n",
    "df_results = df_results.append(polynomial_model.modelTestVictories(\"0.1_miss_estimate\"),ignore_index=True)\n",
    "df_results = df_results.append(polynomial_model.modelTestVictories(\"selfmade_when_bellow\"),ignore_index=True)\n",
    "df_results = df_results.append(polynomial_model.modelTestVictories(\"selfmade_hardcoded\"),ignore_index=True)\n",
    "df_results = df_results.append(polynomial_model.modelTestVictories(\"all_predicted\"),ignore_index=True)"
   ]
  },
  {
   "cell_type": "code",
   "execution_count": 9,
   "metadata": {},
   "outputs": [],
   "source": [
    "polynomial_model.modelPlotBookies()\n",
    "#polynomial_model.modelPlotTrain()\n",
    "#polynomial_model.modelPlotTest()"
   ]
  },
  {
   "source": [
    "## 5. Results"
   ],
   "cell_type": "markdown",
   "metadata": {}
  },
  {
   "cell_type": "code",
   "execution_count": 10,
   "metadata": {},
   "outputs": [
    {
     "output_type": "execute_result",
     "data": {
      "text/plain": [
       "                         Model     Type              Strategy  Total Earning  \\\n",
       "0                    Odd Model  1$ Bets         all_victories           10.0   \n",
       "1                    Odd Model  1$ Bets         all_predicted           10.0   \n",
       "7  Polynomial Regression Model  1$ Bets    selfmade_hardcoded            3.0   \n",
       "8  Polynomial Regression Model  1$ Bets         all_predicted            3.0   \n",
       "2      Linear Regression Model  1$ Bets         all_predicted          -33.0   \n",
       "3    Logistic Regression Model  1$ Bets         all_predicted          -93.0   \n",
       "5  Polynomial Regression Model  1$ Bets     0.1_miss_estimate         -203.0   \n",
       "4  Polynomial Regression Model  1$ Bets     all_miss_estimate         -284.0   \n",
       "6  Polynomial Regression Model  1$ Bets  selfmade_when_bellow            0.0   \n",
       "\n",
       "  Nb Bets  Earned By Bet  Earned on Fav Loss on Fav  Earned on UnderD  \\\n",
       "0    1340       0.007679         396.29         386              0.00   \n",
       "1    1340       0.007679         396.29         386              0.00   \n",
       "7     682       0.003768         266.57         264              0.00   \n",
       "8    1340       0.002060         389.09         382              3.67   \n",
       "2    1340      -0.024701         333.88         338             46.02   \n",
       "3    1340      -0.069403          81.43          71            435.57   \n",
       "5    1340      -0.151694          14.88          15            590.85   \n",
       "4    1340      -0.212119           0.00           0            669.76   \n",
       "6       0            NaN           0.00           0              0.00   \n",
       "\n",
       "  Loss on UnderD  \n",
       "0              0  \n",
       "1              0  \n",
       "7              0  \n",
       "8              8  \n",
       "2             75  \n",
       "3            539  \n",
       "5            794  \n",
       "4            954  \n",
       "6              0  "
      ],
      "text/html": "<div>\n<style scoped>\n    .dataframe tbody tr th:only-of-type {\n        vertical-align: middle;\n    }\n\n    .dataframe tbody tr th {\n        vertical-align: top;\n    }\n\n    .dataframe thead th {\n        text-align: right;\n    }\n</style>\n<table border=\"1\" class=\"dataframe\">\n  <thead>\n    <tr style=\"text-align: right;\">\n      <th></th>\n      <th>Model</th>\n      <th>Type</th>\n      <th>Strategy</th>\n      <th>Total Earning</th>\n      <th>Nb Bets</th>\n      <th>Earned By Bet</th>\n      <th>Earned on Fav</th>\n      <th>Loss on Fav</th>\n      <th>Earned on UnderD</th>\n      <th>Loss on UnderD</th>\n    </tr>\n  </thead>\n  <tbody>\n    <tr>\n      <th>0</th>\n      <td>Odd Model</td>\n      <td>1$ Bets</td>\n      <td>all_victories</td>\n      <td>10.0</td>\n      <td>1340</td>\n      <td>0.007679</td>\n      <td>396.29</td>\n      <td>386</td>\n      <td>0.00</td>\n      <td>0</td>\n    </tr>\n    <tr>\n      <th>1</th>\n      <td>Odd Model</td>\n      <td>1$ Bets</td>\n      <td>all_predicted</td>\n      <td>10.0</td>\n      <td>1340</td>\n      <td>0.007679</td>\n      <td>396.29</td>\n      <td>386</td>\n      <td>0.00</td>\n      <td>0</td>\n    </tr>\n    <tr>\n      <th>7</th>\n      <td>Polynomial Regression Model</td>\n      <td>1$ Bets</td>\n      <td>selfmade_hardcoded</td>\n      <td>3.0</td>\n      <td>682</td>\n      <td>0.003768</td>\n      <td>266.57</td>\n      <td>264</td>\n      <td>0.00</td>\n      <td>0</td>\n    </tr>\n    <tr>\n      <th>8</th>\n      <td>Polynomial Regression Model</td>\n      <td>1$ Bets</td>\n      <td>all_predicted</td>\n      <td>3.0</td>\n      <td>1340</td>\n      <td>0.002060</td>\n      <td>389.09</td>\n      <td>382</td>\n      <td>3.67</td>\n      <td>8</td>\n    </tr>\n    <tr>\n      <th>2</th>\n      <td>Linear Regression Model</td>\n      <td>1$ Bets</td>\n      <td>all_predicted</td>\n      <td>-33.0</td>\n      <td>1340</td>\n      <td>-0.024701</td>\n      <td>333.88</td>\n      <td>338</td>\n      <td>46.02</td>\n      <td>75</td>\n    </tr>\n    <tr>\n      <th>3</th>\n      <td>Logistic Regression Model</td>\n      <td>1$ Bets</td>\n      <td>all_predicted</td>\n      <td>-93.0</td>\n      <td>1340</td>\n      <td>-0.069403</td>\n      <td>81.43</td>\n      <td>71</td>\n      <td>435.57</td>\n      <td>539</td>\n    </tr>\n    <tr>\n      <th>5</th>\n      <td>Polynomial Regression Model</td>\n      <td>1$ Bets</td>\n      <td>0.1_miss_estimate</td>\n      <td>-203.0</td>\n      <td>1340</td>\n      <td>-0.151694</td>\n      <td>14.88</td>\n      <td>15</td>\n      <td>590.85</td>\n      <td>794</td>\n    </tr>\n    <tr>\n      <th>4</th>\n      <td>Polynomial Regression Model</td>\n      <td>1$ Bets</td>\n      <td>all_miss_estimate</td>\n      <td>-284.0</td>\n      <td>1340</td>\n      <td>-0.212119</td>\n      <td>0.00</td>\n      <td>0</td>\n      <td>669.76</td>\n      <td>954</td>\n    </tr>\n    <tr>\n      <th>6</th>\n      <td>Polynomial Regression Model</td>\n      <td>1$ Bets</td>\n      <td>selfmade_when_bellow</td>\n      <td>0.0</td>\n      <td>0</td>\n      <td>NaN</td>\n      <td>0.00</td>\n      <td>0</td>\n      <td>0.00</td>\n      <td>0</td>\n    </tr>\n  </tbody>\n</table>\n</div>"
     },
     "metadata": {},
     "execution_count": 10
    }
   ],
   "source": [
    "df_results.sort_values(by = ['Earned By Bet'], ascending = False)"
   ]
  },
  {
   "cell_type": "code",
   "execution_count": null,
   "metadata": {},
   "outputs": [],
   "source": []
  }
 ]
}